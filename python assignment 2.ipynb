{
 "cells": [
  {
   "cell_type": "code",
   "execution_count": null,
   "id": "28317881",
   "metadata": {},
   "outputs": [],
   "source": [
    "#question 1\n",
    "\"\"\"What are the two values of the Boolean data type? How do you write them?\"\"\"\n",
    "Type 1=True\n",
    "Type 2=False"
   ]
  },
  {
   "cell_type": "code",
   "execution_count": null,
   "id": "fcc56978",
   "metadata": {},
   "outputs": [],
   "source": [
    "#question 2\n",
    "\"\"\"What are the three different types of Boolean operators?\"\"\"\n",
    "#\"or\",\"and\",\"not\""
   ]
  },
  {
   "cell_type": "code",
   "execution_count": 11,
   "id": "3abd3bd9",
   "metadata": {},
   "outputs": [
    {
     "ename": "SyntaxError",
     "evalue": "EOF while scanning triple-quoted string literal (Temp/ipykernel_10580/613073516.py, line 4)",
     "output_type": "error",
     "traceback": [
      "\u001b[1;36m  File \u001b[1;32m\"C:\\Users\\ramiz\\AppData\\Local\\Temp/ipykernel_10580/613073516.py\"\u001b[1;36m, line \u001b[1;32m4\u001b[0m\n\u001b[1;33m    a=True\u001b[0m\n\u001b[1;37m          \n^\u001b[0m\n\u001b[1;31mSyntaxError\u001b[0m\u001b[1;31m:\u001b[0m EOF while scanning triple-quoted string literal\n"
     ]
    }
   ],
   "source": [
    "#question 3\n",
    "\"\"\"Make a list of each Boolean operator&#39;s truth tables (i.e. every possible combination of Boolean\n",
    "values for the operator and what it evaluate\"\""
   ]
  },
  {
   "cell_type": "code",
   "execution_count": 12,
   "id": "cdbfa8ac",
   "metadata": {},
   "outputs": [],
   "source": [
    "a=True"
   ]
  },
  {
   "cell_type": "code",
   "execution_count": 13,
   "id": "33ffd9af",
   "metadata": {},
   "outputs": [
    {
     "data": {
      "text/plain": [
       "False"
      ]
     },
     "execution_count": 13,
     "metadata": {},
     "output_type": "execute_result"
    }
   ],
   "source": [
    "not a"
   ]
  },
  {
   "cell_type": "code",
   "execution_count": 24,
   "id": "e3e94670",
   "metadata": {},
   "outputs": [
    {
     "data": {
      "text/plain": [
       "False"
      ]
     },
     "execution_count": 24,
     "metadata": {},
     "output_type": "execute_result"
    }
   ],
   "source": [
    "#question 3\n",
    "\"\"\"What are the values of the following expressions?\"\"\"\n",
    "(5>4) and (3==5)\n",
    "not (5>4)"
   ]
  },
  {
   "cell_type": "code",
   "execution_count": 21,
   "id": "8c6aa30e",
   "metadata": {},
   "outputs": [
    {
     "data": {
      "text/plain": [
       "False"
      ]
     },
     "execution_count": 21,
     "metadata": {},
     "output_type": "execute_result"
    }
   ],
   "source": [
    "(5 > 4) or (3 == 5)\n",
    "not ((5 > 4) or (3 == 5))"
   ]
  },
  {
   "cell_type": "code",
   "execution_count": 22,
   "id": "c16ec2d6",
   "metadata": {},
   "outputs": [
    {
     "data": {
      "text/plain": [
       "False"
      ]
     },
     "execution_count": 22,
     "metadata": {},
     "output_type": "execute_result"
    }
   ],
   "source": [
    "(True and True) and (True == False)"
   ]
  },
  {
   "cell_type": "code",
   "execution_count": 23,
   "id": "879d99f8",
   "metadata": {},
   "outputs": [
    {
     "data": {
      "text/plain": [
       "True"
      ]
     },
     "execution_count": 23,
     "metadata": {},
     "output_type": "execute_result"
    }
   ],
   "source": [
    "(True and True) and (True == False)\n",
    "(not False) or (not True)"
   ]
  },
  {
   "cell_type": "code",
   "execution_count": null,
   "id": "bde5ed5e",
   "metadata": {},
   "outputs": [],
   "source": [
    "#question 5\n",
    "\"\"\"What are the six comparison operators?\"\"\"\n",
    "#1.equalto 2.not equal to 3.greater then 4.greater thenor equal to 5.less then 6.less then equal to"
   ]
  },
  {
   "cell_type": "code",
   "execution_count": 26,
   "id": "fe4d58c6",
   "metadata": {},
   "outputs": [],
   "source": [
    "#question 6\n",
    "\"\"\"How do you tell the difference between the equal to and assignment operators?Describe a\n",
    "condition and when you would use one.\"\"\"\n",
    "#\"=\"is an assignment operatoris used to assign value onright to the varaible on left\n",
    "#\"==\" is operatoe which cheak wheater two given opramd are equalor not if so it terurn True otherwise False\n",
    "#suppose\n",
    "a=10"
   ]
  },
  {
   "cell_type": "code",
   "execution_count": 27,
   "id": "86f8715b",
   "metadata": {},
   "outputs": [
    {
     "data": {
      "text/plain": [
       "10"
      ]
     },
     "execution_count": 27,
     "metadata": {},
     "output_type": "execute_result"
    }
   ],
   "source": [
    "a"
   ]
  },
  {
   "cell_type": "code",
   "execution_count": 41,
   "id": "60e3486c",
   "metadata": {},
   "outputs": [
    {
     "name": "stdout",
     "output_type": "stream",
     "text": [
      "a is not zero\n"
     ]
    }
   ],
   "source": [
    "a=10\n",
    "if a==0:\n",
    "    print(\"a is zero\")\n",
    "else: \n",
    "        print(\"a is not zero\")"
   ]
  },
  {
   "cell_type": "code",
   "execution_count": 44,
   "id": "6ac62147",
   "metadata": {},
   "outputs": [
    {
     "data": {
      "text/plain": [
       "'Identify the three blocks in this code:'"
      ]
     },
     "execution_count": 44,
     "metadata": {},
     "output_type": "execute_result"
    }
   ],
   "source": [
    "#question 7\n",
    "\"\"\"Identify the three blocks in this code:\"\"\""
   ]
  },
  {
   "cell_type": "code",
   "execution_count": 60,
   "id": "a531feaf",
   "metadata": {},
   "outputs": [],
   "source": []
  },
  {
   "cell_type": "code",
   "execution_count": 65,
   "id": "b3ca417b",
   "metadata": {},
   "outputs": [
    {
     "name": "stdout",
     "output_type": "stream",
     "text": [
      "ham\n",
      "spam\n"
     ]
    }
   ],
   "source": [
    "spam=0\n",
    "if spam==10:\n",
    "    print(\"egg\")\n",
    "elif spam>10:\n",
    "    print(\"bacon\")\n",
    "else:\n",
    "    print(\"ham\")\n",
    "    print(\"spam\")\n",
    "    "
   ]
  },
  {
   "cell_type": "code",
   "execution_count": null,
   "id": "e5c34858",
   "metadata": {},
   "outputs": [],
   "source": [
    "#question 8"
   ]
  },
  {
   "cell_type": "code",
   "execution_count": 95,
   "id": "e8553a62",
   "metadata": {},
   "outputs": [
    {
     "name": "stdout",
     "output_type": "stream",
     "text": [
      "2\n",
      "greeting\n"
     ]
    }
   ],
   "source": [
    "a=input()\n",
    "if spam==1:\n",
    "    print(\"hello\")\n",
    "elif spam ==2:\n",
    "        print(\"howdey\")\n",
    "else:\n",
    "    print(\"greeting\")"
   ]
  },
  {
   "cell_type": "code",
   "execution_count": 96,
   "id": "b315bca7",
   "metadata": {},
   "outputs": [
    {
     "data": {
      "text/plain": [
       "''"
      ]
     },
     "execution_count": 96,
     "metadata": {},
     "output_type": "execute_result"
    }
   ],
   "source": [
    "#question \n",
    "\"\"\"If your programme is stuck in an endless loop, what keys you’ll press?\"\"\"\n",
    "# the break loop statement can be used"
   ]
  },
  {
   "cell_type": "code",
   "execution_count": null,
   "id": "cbc5c0c0",
   "metadata": {},
   "outputs": [],
   "source": [
    "#question 11\n",
    "\"\"\"How can you tell the difference between break and continue?\"\"\"\n",
    "#break statement can stop the loop \n",
    "#continue skip a single iteration in loop"
   ]
  },
  {
   "cell_type": "code",
   "execution_count": 109,
   "id": "28609ca5",
   "metadata": {},
   "outputs": [
    {
     "data": {
      "text/plain": [
       "range(0, 10)"
      ]
     },
     "execution_count": 109,
     "metadata": {},
     "output_type": "execute_result"
    }
   ],
   "source": [
    "#question 11\n",
    "\"\"\"In a for loop, what is the difference between range(10), range(0, 10), and range(0, 10, 1)?\"\"\"\n",
    "#they all do the same thing. The range(10) call ranges from 0 up to (but not including) 10, \n",
    "#range(0,10) explicitly tells the loop to start at 0 , \n",
    "#and range (0,10,1) explicitly tells the loop to increase the variable by 1 on each iteration.\n",
    "range (10)"
   ]
  },
  {
   "cell_type": "code",
   "execution_count": 98,
   "id": "4c384295",
   "metadata": {},
   "outputs": [
    {
     "data": {
      "text/plain": [
       "range(0, 10)"
      ]
     },
     "execution_count": 98,
     "metadata": {},
     "output_type": "execute_result"
    }
   ],
   "source": [
    "range(0,10)"
   ]
  },
  {
   "cell_type": "code",
   "execution_count": 101,
   "id": "a5da147e",
   "metadata": {},
   "outputs": [
    {
     "data": {
      "text/plain": [
       "range(0, 10)"
      ]
     },
     "execution_count": 101,
     "metadata": {},
     "output_type": "execute_result"
    }
   ],
   "source": [
    "range(0,10,1)"
   ]
  },
  {
   "cell_type": "code",
   "execution_count": null,
   "id": "630c9a88",
   "metadata": {},
   "outputs": [],
   "source": [
    "#question 12\n",
    "\"\"\"Write a short program that prints the numbers 1 to 10 using a for loop. Then write an equivalent\n",
    "program that prints the numbers 1 to 10 using a while loop.\"\"\""
   ]
  },
  {
   "cell_type": "code",
   "execution_count": 104,
   "id": "05db8e18",
   "metadata": {},
   "outputs": [
    {
     "name": "stdout",
     "output_type": "stream",
     "text": [
      "1\n",
      "2\n",
      "3\n",
      "4\n",
      "5\n",
      "6\n",
      "7\n",
      "8\n",
      "9\n"
     ]
    }
   ],
   "source": [
    "for i in range(1,10):\n",
    "    print(i)"
   ]
  },
  {
   "cell_type": "code",
   "execution_count": null,
   "id": "85b3b1d4",
   "metadata": {},
   "outputs": [],
   "source": []
  },
  {
   "cell_type": "code",
   "execution_count": 108,
   "id": "5a096893",
   "metadata": {},
   "outputs": [
    {
     "name": "stdout",
     "output_type": "stream",
     "text": [
      "1\n",
      "2\n",
      "3\n",
      "4\n",
      "5\n",
      "6\n",
      "7\n",
      "8\n",
      "9\n",
      "10\n"
     ]
    }
   ],
   "source": [
    "i=1\n",
    "while (i<=10):\n",
    "    print(i)\n",
    "    i=i+1"
   ]
  },
  {
   "cell_type": "code",
   "execution_count": null,
   "id": "ba261051",
   "metadata": {},
   "outputs": [],
   "source": [
    "#question 12\n",
    "\"\"\"If you had a function named bacon() inside a module named spam, how would you call it after\n",
    "importing spam?\"\"\"\n",
    "# function can be called with spam.bacon()."
   ]
  }
 ],
 "metadata": {
  "kernelspec": {
   "display_name": "Python 3 (ipykernel)",
   "language": "python",
   "name": "python3"
  },
  "language_info": {
   "codemirror_mode": {
    "name": "ipython",
    "version": 3
   },
   "file_extension": ".py",
   "mimetype": "text/x-python",
   "name": "python",
   "nbconvert_exporter": "python",
   "pygments_lexer": "ipython3",
   "version": "3.9.7"
  }
 },
 "nbformat": 4,
 "nbformat_minor": 5
}
